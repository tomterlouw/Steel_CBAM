{
 "cells": [
  {
   "cell_type": "code",
   "execution_count": 1,
   "id": "543740bc-2105-41a8-9f41-eca303d1f5f2",
   "metadata": {},
   "outputs": [],
   "source": [
    "import bw2data as bd\n",
    "import brightway2 as bw\n",
    "from polyviz import sankey"
   ]
  },
  {
   "cell_type": "code",
   "execution_count": 2,
   "id": "d83fb0a8-300a-42e8-b9f3-2e59915ea5ec",
   "metadata": {},
   "outputs": [],
   "source": [
    "from config import * #some main key parameters needed.\n",
    "from private_keys import * #import premise key"
   ]
  },
  {
   "cell_type": "code",
   "execution_count": 3,
   "id": "ebdeed8e-0af2-4b4f-8b46-6e828fa1c0bc",
   "metadata": {},
   "outputs": [
    {
     "data": {
      "text/plain": [
       "('ecoinvent-3.10-cutoff', 'lca_steel_sector_cbam')"
      ]
     },
     "execution_count": 3,
     "metadata": {},
     "output_type": "execute_result"
    }
   ],
   "source": [
    "bw.projects.set_current(PROJECT_NAME) #Creating/accessing the project\n",
    "DB_NAME_INIT,PROJECT_NAME"
   ]
  },
  {
   "cell_type": "code",
   "execution_count": 4,
   "id": "5a1b7b01-a96e-42ed-9f5a-9393cd68ddae",
   "metadata": {},
   "outputs": [
    {
     "data": {
      "text/plain": [
       "['ecoinvent_310_reference',\n",
       " 'ecoinvent_remind_SSP2-PkBudg1150_2030_base',\n",
       " 'ecoinvent_remind_SSP2-PkBudg1150_2035_base',\n",
       " 'ecoinvent_remind_SSP2-PkBudg1150_2040_base',\n",
       " 'ecoinvent_remind_SSP2-PkBudg1150_2045_base',\n",
       " 'ecoinvent_remind_SSP2-PkBudg1150_2050_base',\n",
       " 'ecoinvent_image_SSP2-RCP26_2030_base',\n",
       " 'ecoinvent_image_SSP2-RCP26_2035_base',\n",
       " 'ecoinvent_image_SSP2-RCP26_2040_base',\n",
       " 'ecoinvent_image_SSP2-RCP26_2045_base',\n",
       " 'ecoinvent_image_SSP2-RCP26_2050_base']"
      ]
     },
     "execution_count": 4,
     "metadata": {},
     "output_type": "execute_result"
    }
   ],
   "source": [
    "all_ei_databases = [db_2 for db_2 in bw.databases if \"ecoinvent_\" in str(db_2)]\n",
    "#all_ei_databases = all_ei_databases[3:] + all_ei_databases[:3]\n",
    "all_ei_databases"
   ]
  },
  {
   "cell_type": "markdown",
   "id": "d5b468ee-c4be-43ca-8f33-0132d2ce5469",
   "metadata": {},
   "source": [
    "### Make beautiful Sankey diagrams for the steel production pathways"
   ]
  },
  {
   "cell_type": "code",
   "execution_count": 5,
   "id": "8ecbb6d8-8e16-447c-8271-b2dd5f24f808",
   "metadata": {},
   "outputs": [
    {
     "name": "stdout",
     "output_type": "stream",
     "text": [
      "TGR-BF-BOF+CCS, steel production, unalloyed GLO\n",
      "Calculating supply chain score...\n",
      "Sankey diagram generated.\n",
      "steel production, electric, low-alloyed, secondary steel, using scrap iron RoW\n",
      "Calculating supply chain score...\n",
      "Sankey diagram generated.\n",
      "steel production, electric, low-alloyed, primary steel, using direct reduced iron RoW\n",
      "Calculating supply chain score...\n",
      "Sankey diagram generated.\n",
      "NG-DRI-EAF, steel production, unalloyed GLO\n",
      "Calculating supply chain score...\n",
      "Sankey diagram generated.\n",
      "EW-EAF, steel production, unalloyed GLO\n",
      "Calculating supply chain score...\n",
      "Sankey diagram generated.\n",
      "H2-DRI-EAF, steel production, unalloyed GLO\n",
      "Calculating supply chain score...\n",
      "Sankey diagram generated.\n",
      "TGR-BF-BOF, steel production, unalloyed GLO\n",
      "Calculating supply chain score...\n",
      "Sankey diagram generated.\n",
      "BF-BOF+CCS, steel production, unalloyed GLO\n",
      "Calculating supply chain score...\n",
      "Sankey diagram generated.\n",
      "NG-DRI-EAF+CCS, steel production, unalloyed GLO\n",
      "Calculating supply chain score...\n",
      "Sankey diagram generated.\n",
      "steel production, converter, unalloyed, only primary steel RoW\n",
      "Calculating supply chain score...\n",
      "Sankey diagram generated.\n",
      "TGR-BF-BOF, steel production, unalloyed GLO\n",
      "Calculating supply chain score...\n",
      "Sankey diagram generated.\n",
      "NG-DRI-EAF, steel production, unalloyed GLO\n",
      "Calculating supply chain score...\n",
      "Sankey diagram generated.\n",
      "steel production, converter, unalloyed, only primary steel World\n",
      "Calculating supply chain score...\n",
      "Sankey diagram generated.\n",
      "BF-BOF+CCS, steel production, unalloyed GLO\n",
      "Calculating supply chain score...\n",
      "Sankey diagram generated.\n",
      "steel production, electric, low-alloyed, secondary steel, using scrap iron World\n",
      "Calculating supply chain score...\n",
      "Sankey diagram generated.\n",
      "NG-DRI-EAF+CCS, steel production, unalloyed GLO\n",
      "Calculating supply chain score...\n",
      "Sankey diagram generated.\n",
      "steel production, electric, low-alloyed, primary steel, using direct reduced iron World\n",
      "Calculating supply chain score...\n",
      "Sankey diagram generated.\n",
      "TGR-BF-BOF+CCS, steel production, unalloyed GLO\n",
      "Calculating supply chain score...\n",
      "Sankey diagram generated.\n",
      "EW-EAF, steel production, unalloyed GLO\n",
      "Calculating supply chain score...\n",
      "Sankey diagram generated.\n",
      "H2-DRI-EAF, steel production, unalloyed GLO\n",
      "Calculating supply chain score...\n",
      "Sankey diagram generated.\n",
      "TGR-BF-BOF, steel production, unalloyed GLO\n",
      "Calculating supply chain score...\n",
      "Sankey diagram generated.\n",
      "steel production, converter, unalloyed, only primary steel World\n",
      "Calculating supply chain score...\n",
      "Sankey diagram generated.\n",
      "NG-DRI-EAF, steel production, unalloyed GLO\n",
      "Calculating supply chain score...\n",
      "Sankey diagram generated.\n",
      "steel production, electric, low-alloyed, secondary steel, using scrap iron World\n",
      "Calculating supply chain score...\n",
      "Sankey diagram generated.\n",
      "TGR-BF-BOF+CCS, steel production, unalloyed GLO\n",
      "Calculating supply chain score...\n",
      "Sankey diagram generated.\n",
      "EW-EAF, steel production, unalloyed GLO\n",
      "Calculating supply chain score...\n",
      "Sankey diagram generated.\n",
      "NG-DRI-EAF+CCS, steel production, unalloyed GLO\n",
      "Calculating supply chain score...\n",
      "Sankey diagram generated.\n",
      "H2-DRI-EAF, steel production, unalloyed GLO\n",
      "Calculating supply chain score...\n",
      "Sankey diagram generated.\n",
      "steel production, electric, low-alloyed, primary steel, using direct reduced iron World\n",
      "Calculating supply chain score...\n",
      "Sankey diagram generated.\n",
      "BF-BOF+CCS, steel production, unalloyed GLO\n",
      "Calculating supply chain score...\n",
      "Sankey diagram generated.\n"
     ]
    }
   ],
   "source": [
    "databases = [NAME_REF_DB, 'ecoinvent_image_SSP2-RCP26_2040_base', 'ecoinvent_remind_SSP2-PkBudg1150_2040_base']\n",
    "\n",
    "for db_sel in databases:\n",
    "    steel_activities = [ act for act in bd.Database(db_sel) \n",
    "                                 if ('steel production, unalloyed' in act['name'] and\n",
    "                                 'GLO' == act['location']) or ('steel production, converter, unalloyed, only primary steel' in act['name'] and\n",
    "                                 act['location'] in ['RoW', 'World']) or ('primary steel, using direct reduced iron' in act['name'] and\n",
    "                                 act['location'] in ['RoW', 'World']) or ('steel production, electric, low-alloyed, secondary steel, using scrap iron' in act['name'] and\n",
    "                                 act['location'] in ['RoW', 'World'])] \n",
    "    \n",
    "    for act in steel_activities:\n",
    "        print(act['name'], act['location'])\n",
    "    \n",
    "        sankey(\n",
    "            activity=act,\n",
    "            level=5,\n",
    "            cutoff=0.01,\n",
    "            method=MY_METHODS[0],\n",
    "            notebook=False,\n",
    "            filepath=f\"figs/sankeys/{db_sel} {act['name'][:30]}.html\"\n",
    "        )"
   ]
  },
  {
   "cell_type": "code",
   "execution_count": null,
   "id": "41d57801-e3c4-420f-987e-efeffe4a8531",
   "metadata": {},
   "outputs": [],
   "source": []
  }
 ],
 "metadata": {
  "kernelspec": {
   "display_name": "Python 3 (ipykernel)",
   "language": "python",
   "name": "python3"
  },
  "language_info": {
   "codemirror_mode": {
    "name": "ipython",
    "version": 3
   },
   "file_extension": ".py",
   "mimetype": "text/x-python",
   "name": "python",
   "nbconvert_exporter": "python",
   "pygments_lexer": "ipython3",
   "version": "3.11.9"
  }
 },
 "nbformat": 4,
 "nbformat_minor": 5
}
