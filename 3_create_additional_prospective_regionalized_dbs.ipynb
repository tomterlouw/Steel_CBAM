{
 "cells": [
  {
   "cell_type": "code",
   "execution_count": 1,
   "id": "543740bc-2105-41a8-9f41-eca303d1f5f2",
   "metadata": {},
   "outputs": [
    {
     "name": "stdout",
     "output_type": "stream",
     "text": [
      "Adding REMIND and IMAGE topology using regionalization.py\n"
     ]
    }
   ],
   "source": [
    "from bw2data import Database, Method\n",
    "import bw2data as bd\n",
    "import brightway2 as bw\n",
    "import bw2data\n",
    "from tqdm import tqdm  # Progress bar\n",
    "from bw2data import Database\n",
    "from premise.geomap import Geomap\n",
    "import wurst as w\n",
    "import uuid\n",
    "from tqdm import tqdm\n",
    "from regionalization import match_best_location, relink_technosphere_exchanges"
   ]
  },
  {
   "cell_type": "code",
   "execution_count": 2,
   "id": "d83fb0a8-300a-42e8-b9f3-2e59915ea5ec",
   "metadata": {},
   "outputs": [],
   "source": [
    "from db_functions import * # this is a python file with self-created functions needed to run this notebook\n",
    "from config import * #some main key parameters needed.\n",
    "from private_keys import * #import premise key\n",
    "from functions import find_activity_fast"
   ]
  },
  {
   "cell_type": "code",
   "execution_count": 3,
   "id": "ebdeed8e-0af2-4b4f-8b46-6e828fa1c0bc",
   "metadata": {},
   "outputs": [
    {
     "data": {
      "text/plain": [
       "('ecoinvent-3.10-cutoff', 'lca_steel_sector_cbam')"
      ]
     },
     "execution_count": 3,
     "metadata": {},
     "output_type": "execute_result"
    }
   ],
   "source": [
    "bw.projects.set_current(PROJECT_NAME) #Creating/accessing the project\n",
    "DB_NAME_INIT,PROJECT_NAME"
   ]
  },
  {
   "cell_type": "code",
   "execution_count": 4,
   "id": "5a1b7b01-a96e-42ed-9f5a-9393cd68ddae",
   "metadata": {},
   "outputs": [
    {
     "data": {
      "text/plain": [
       "['ecoinvent_310_reference',\n",
       " 'ecoinvent_remind_SSP2-PkBudg1150_2030_base',\n",
       " 'ecoinvent_remind_SSP2-PkBudg1150_2035_base',\n",
       " 'ecoinvent_remind_SSP2-PkBudg1150_2045_base',\n",
       " 'ecoinvent_remind_SSP2-PkBudg1150_2050_base',\n",
       " 'ecoinvent_image_SSP2-RCP26_2030_base',\n",
       " 'ecoinvent_image_SSP2-RCP26_2035_base',\n",
       " 'ecoinvent_image_SSP2-RCP26_2040_base',\n",
       " 'ecoinvent_image_SSP2-RCP26_2045_base',\n",
       " 'ecoinvent_image_SSP2-RCP26_2050_base',\n",
       " 'ecoinvent_remind_SSP2-PkBudg1150_2040_base']"
      ]
     },
     "execution_count": 4,
     "metadata": {},
     "output_type": "execute_result"
    }
   ],
   "source": [
    "all_ei_databases = [db_2 for db_2 in bw.databases if \"ecoinvent_\" in str(db_2)]\n",
    "all_ei_databases"
   ]
  },
  {
   "cell_type": "code",
   "execution_count": 5,
   "id": "2ec240a0-6261-4e82-aad4-c45c7403576a",
   "metadata": {},
   "outputs": [],
   "source": [
    "for db in list(bw.databases):\n",
    "    if 'steel_db_remind_SSP2-PkBudg1150' in str(db):\n",
    "        print(db)\n",
    "        #del bw.databases[db]"
   ]
  },
  {
   "cell_type": "markdown",
   "id": "51b0216e-081f-4e3a-a53a-333e68219a7e",
   "metadata": {},
   "source": [
    "### Make new databases going from IMAGE to REMIND"
   ]
  },
  {
   "cell_type": "code",
   "execution_count": 6,
   "id": "bf541d2a-2f8a-49a8-afe4-cda071dc7426",
   "metadata": {},
   "outputs": [],
   "source": [
    "def get_activity_key(db_name, name, reference_product, location):\n",
    "    \"\"\"\n",
    "    Retrieve the (database, code) key for an activity from a Wurst-style DB based on name, product, and location.\n",
    "\n",
    "    Parameters:\n",
    "    - db_name (str): Name of the database\n",
    "    - db_sel (list or dict): Wurst-compatible database (usually a list of dicts)\n",
    "    - name (str): Activity name\n",
    "    - reference_product (str): Reference product\n",
    "    - location (str): Location\n",
    "\n",
    "    Returns:\n",
    "    - tuple: (db_name, activity_code)\n",
    "    \"\"\"\n",
    "    w_db = database_sel[db_name]\n",
    "    act = w.get_one(\n",
    "        w_db,\n",
    "        w.equals(\"name\", name),\n",
    "        w.equals(\"reference product\", reference_product),\n",
    "        w.equals(\"location\", location)\n",
    "    )\n",
    "    return (db_name, act[\"code\"])"
   ]
  },
  {
   "cell_type": "code",
   "execution_count": 7,
   "id": "6190f6e9-ebb3-440f-9ea0-404420e0cf01",
   "metadata": {},
   "outputs": [],
   "source": [
    "def write_new_db_with_new_iam_regions_full_relinking(\n",
    "    w_db_to_modify,\n",
    "    new_db_name,\n",
    "    dict_db_dependencies,\n",
    "    database_sel,\n",
    "    db_sourced,\n",
    "    get_prod_value=True,\n",
    "    regionalize=True, \n",
    "    regionalize_exemption = ['fossil fuel']\n",
    "):\n",
    "    \"\"\"\n",
    "    Create a new Brightway2 database with updated regional information for IAM integration.\n",
    "\n",
    "    This function duplicates a list of Brightway2 datasets, updates their database name and code,\n",
    "    and relinks technosphere exchanges based on new IAM-specific regional mappings.\n",
    "\n",
    "    Parameters:\n",
    "    - w_db_to_modify: List of Brightway2 datasets (dicts) to be modified.\n",
    "    - new_db_name: String name for the new Brightway2 database to be created.\n",
    "    - dict_db_dependencies: Dictionary mapping old database names to their corresponding new IAM-specific database names.\n",
    "    - database_sel: Dictionary mapping database names to Brightway2 `Database` objects used for relinking.\n",
    "\n",
    "    Returns:\n",
    "    - List of updated dataset dictionaries, ready to be written as a new Brightway2 database.\n",
    "    \"\"\"\n",
    "\n",
    "    # Remove existing database if it exists\n",
    "    if new_db_name in list(bw.databases):\n",
    "        print(\"Deleting existing database...\")\n",
    "        del bw.databases[new_db_name]\n",
    "\n",
    "    new_datasets = []\n",
    "\n",
    "    for i, act in enumerate(tqdm(w_db_to_modify, desc=\"Updating datasets\")):\n",
    "        act = act.copy()\n",
    "        act[\"database\"] = new_db_name\n",
    "        new_code = str(uuid.uuid4().hex)\n",
    "        act[\"code\"] = new_code\n",
    "\n",
    "        # Now, we need to know the initial database it is linked to find the new database it should be linked to\n",
    "        # note: this found database should be the same for all technosphere exchanges therefore we can stop after finding first instance\n",
    "        init_db = None\n",
    "\n",
    "        if get_prod_value:\n",
    "            prod_vol = find_activity_fast(db_sourced, act['name'], act['reference product'], act['location'] )['production volume']\n",
    "        \n",
    "        new_prod = (new_db_name, new_code)\n",
    "        \n",
    "        for e in act[\"exchanges\"]:\n",
    "            if e[\"type\"] == \"technosphere\" and init_db == None:\n",
    "                init_db = e[\"input\"][0]\n",
    "                break\n",
    "                \n",
    "        # We need to know to which db to reink to.\n",
    "        new_db_for_act = dict_db_dependencies[init_db] \n",
    "\n",
    "        act = act.copy()\n",
    "        if regionalize and act['reference product'] not in regionalize_exemption:\n",
    "            act = relink_technosphere_exchanges(act, database_sel[new_db_for_act], contained=False)\n",
    "\n",
    "        exchanges = []\n",
    "        for exc in act['exchanges']:\n",
    "            exc = exc.copy()\n",
    "            if exc['type'] == 'technosphere':\n",
    "                product = exc.get(\"product\") or exc.get(\"reference product\")\n",
    "                #print(new_db_for_act, exc[\"name\"], exc[\"location\"])\n",
    "                exc[\"input\"] = get_activity_key(\n",
    "                                db_name=new_db_for_act,\n",
    "                                name=exc[\"name\"],\n",
    "                                location=exc[\"location\"],\n",
    "                                reference_product=product\n",
    "                            )\n",
    "                    \n",
    "                exchanges.append(exc)\n",
    "            elif exc['type'] == 'production':\n",
    "                exc[\"input\"] = (new_db_name, new_code)                    \n",
    "                exchanges.append(exc)\n",
    "            else:\n",
    "                # no relinking needed for biosphere flows\n",
    "                exchanges.append(exc)\n",
    "                \n",
    "        if prod_vol is None and get_prod_value:\n",
    "            print(f\"WARNING: no production volume found for: {act['name']}\")\n",
    "\n",
    "        act['exchanges'] = exchanges\n",
    "        \n",
    "        if get_prod_value:\n",
    "            act['production volume'] = prod_vol\n",
    "            \n",
    "        new_datasets.append(act)\n",
    "\n",
    "    return new_datasets"
   ]
  },
  {
   "cell_type": "code",
   "execution_count": 8,
   "id": "37d0e97f-b499-45ed-accc-02b20ebd29af",
   "metadata": {},
   "outputs": [
    {
     "name": "stdout",
     "output_type": "stream",
     "text": [
      "Getting activity data\n"
     ]
    },
    {
     "name": "stderr",
     "output_type": "stream",
     "text": [
      "100%|█████████████████████████████████████████████████████████████████████████| 26110/26110 [00:00<00:00, 33235.30it/s]\n"
     ]
    },
    {
     "name": "stdout",
     "output_type": "stream",
     "text": [
      "Adding exchange data to activities\n"
     ]
    },
    {
     "name": "stderr",
     "output_type": "stream",
     "text": [
      "100%|████████████████████████████████████████████████████████████████████████| 804790/804790 [01:39<00:00, 8097.61it/s]\n"
     ]
    },
    {
     "name": "stdout",
     "output_type": "stream",
     "text": [
      "Filling out exchange data\n"
     ]
    },
    {
     "name": "stderr",
     "output_type": "stream",
     "text": [
      "100%|██████████████████████████████████████████████████████████████████████████| 26110/26110 [00:06<00:00, 4316.17it/s]\n"
     ]
    },
    {
     "name": "stdout",
     "output_type": "stream",
     "text": [
      "Getting activity data\n"
     ]
    },
    {
     "name": "stderr",
     "output_type": "stream",
     "text": [
      "100%|█████████████████████████████████████████████████████████████████████████| 31177/31177 [00:00<00:00, 67660.36it/s]\n"
     ]
    },
    {
     "name": "stdout",
     "output_type": "stream",
     "text": [
      "Adding exchange data to activities\n"
     ]
    },
    {
     "name": "stderr",
     "output_type": "stream",
     "text": [
      "100%|████████████████████████████████████████████████████████████████████████| 915467/915467 [01:31<00:00, 9968.37it/s]\n"
     ]
    },
    {
     "name": "stdout",
     "output_type": "stream",
     "text": [
      "Filling out exchange data\n"
     ]
    },
    {
     "name": "stderr",
     "output_type": "stream",
     "text": [
      "100%|██████████████████████████████████████████████████████████████████████████| 31177/31177 [00:06<00:00, 5068.43it/s]\n"
     ]
    },
    {
     "name": "stdout",
     "output_type": "stream",
     "text": [
      "Getting activity data\n"
     ]
    },
    {
     "name": "stderr",
     "output_type": "stream",
     "text": [
      "100%|█████████████████████████████████████████████████████████████████████████| 31172/31172 [00:00<00:00, 76626.79it/s]\n"
     ]
    },
    {
     "name": "stdout",
     "output_type": "stream",
     "text": [
      "Adding exchange data to activities\n"
     ]
    },
    {
     "name": "stderr",
     "output_type": "stream",
     "text": [
      "100%|███████████████████████████████████████████████████████████████████████| 915421/915421 [01:29<00:00, 10198.31it/s]\n"
     ]
    },
    {
     "name": "stdout",
     "output_type": "stream",
     "text": [
      "Filling out exchange data\n"
     ]
    },
    {
     "name": "stderr",
     "output_type": "stream",
     "text": [
      "100%|██████████████████████████████████████████████████████████████████████████| 31172/31172 [00:07<00:00, 4334.35it/s]\n"
     ]
    },
    {
     "name": "stdout",
     "output_type": "stream",
     "text": [
      "Getting activity data\n"
     ]
    },
    {
     "name": "stderr",
     "output_type": "stream",
     "text": [
      "100%|█████████████████████████████████████████████████████████████████████████| 31171/31171 [00:00<00:00, 69919.50it/s]\n"
     ]
    },
    {
     "name": "stdout",
     "output_type": "stream",
     "text": [
      "Adding exchange data to activities\n"
     ]
    },
    {
     "name": "stderr",
     "output_type": "stream",
     "text": [
      "100%|████████████████████████████████████████████████████████████████████████| 915091/915091 [01:31<00:00, 9973.24it/s]\n"
     ]
    },
    {
     "name": "stdout",
     "output_type": "stream",
     "text": [
      "Filling out exchange data\n"
     ]
    },
    {
     "name": "stderr",
     "output_type": "stream",
     "text": [
      "100%|██████████████████████████████████████████████████████████████████████████| 31171/31171 [00:07<00:00, 4370.15it/s]\n"
     ]
    },
    {
     "name": "stdout",
     "output_type": "stream",
     "text": [
      "Getting activity data\n"
     ]
    },
    {
     "name": "stderr",
     "output_type": "stream",
     "text": [
      "100%|█████████████████████████████████████████████████████████████████████████| 31173/31173 [00:00<00:00, 66707.03it/s]\n"
     ]
    },
    {
     "name": "stdout",
     "output_type": "stream",
     "text": [
      "Adding exchange data to activities\n"
     ]
    },
    {
     "name": "stderr",
     "output_type": "stream",
     "text": [
      "100%|███████████████████████████████████████████████████████████████████████| 915150/915150 [01:27<00:00, 10455.80it/s]\n"
     ]
    },
    {
     "name": "stdout",
     "output_type": "stream",
     "text": [
      "Filling out exchange data\n"
     ]
    },
    {
     "name": "stderr",
     "output_type": "stream",
     "text": [
      "100%|██████████████████████████████████████████████████████████████████████████| 31173/31173 [00:07<00:00, 4376.39it/s]\n"
     ]
    },
    {
     "name": "stdout",
     "output_type": "stream",
     "text": [
      "Getting activity data\n"
     ]
    },
    {
     "name": "stderr",
     "output_type": "stream",
     "text": [
      "100%|██████████████████████████████████████████████████████████████████████████| 31173/31173 [00:06<00:00, 4982.79it/s]\n"
     ]
    },
    {
     "name": "stdout",
     "output_type": "stream",
     "text": [
      "Adding exchange data to activities\n"
     ]
    },
    {
     "name": "stderr",
     "output_type": "stream",
     "text": [
      "100%|███████████████████████████████████████████████████████████████████████| 915156/915156 [01:28<00:00, 10390.83it/s]\n"
     ]
    },
    {
     "name": "stdout",
     "output_type": "stream",
     "text": [
      "Filling out exchange data\n"
     ]
    },
    {
     "name": "stderr",
     "output_type": "stream",
     "text": [
      "100%|██████████████████████████████████████████████████████████████████████████| 31173/31173 [00:06<00:00, 4577.26it/s]\n"
     ]
    },
    {
     "name": "stdout",
     "output_type": "stream",
     "text": [
      "Getting activity data\n"
     ]
    },
    {
     "name": "stderr",
     "output_type": "stream",
     "text": [
      "100%|███████████████████████████████████████████████████████████████████████████| 4362/4362 [00:00<00:00, 86723.17it/s]\n"
     ]
    },
    {
     "name": "stdout",
     "output_type": "stream",
     "text": [
      "Adding exchange data to activities\n"
     ]
    },
    {
     "name": "stderr",
     "output_type": "stream",
     "text": [
      "0it [00:00, ?it/s]\n"
     ]
    },
    {
     "name": "stdout",
     "output_type": "stream",
     "text": [
      "Filling out exchange data\n"
     ]
    },
    {
     "name": "stderr",
     "output_type": "stream",
     "text": [
      "100%|██████████████████████████████████████████████████████████████████████████| 4362/4362 [00:00<00:00, 872380.03it/s]\n"
     ]
    }
   ],
   "source": [
    "new_iam_model = 'remind'\n",
    "new_iam_model_scenario = 'SSP2-PkBudg1150'\n",
    "\n",
    "old_iam_model = 'image'\n",
    "old_iam_model_scenario = 'SSP2-RCP26'\n",
    "\n",
    "new_iam_scenario = f'{new_iam_model}_{new_iam_model_scenario}'\n",
    "old_iam_scenario = f'{old_iam_model}_{old_iam_model_scenario}'\n",
    "\n",
    "# extract the databases using wurst\n",
    "ref_db_w = w.extract_brightway2_databases(NAME_REF_DB, add_properties=False, add_identifiers=False)\n",
    "ref_db_w_2030 = w.extract_brightway2_databases(f'ecoinvent_{new_iam_scenario}_2030_base', add_properties=False, add_identifiers=False)\n",
    "ref_db_w_2035 = w.extract_brightway2_databases(f'ecoinvent_{new_iam_scenario}_2035_base', add_properties=False, add_identifiers=False)\n",
    "ref_db_w_2040 = w.extract_brightway2_databases(f'ecoinvent_{new_iam_scenario}_2040_base', add_properties=False, add_identifiers=False)\n",
    "ref_db_w_2045 = w.extract_brightway2_databases(f'ecoinvent_{new_iam_scenario}_2045_base', add_properties=False, add_identifiers=False)\n",
    "ref_db_w_2050 = w.extract_brightway2_databases(f'ecoinvent_{new_iam_scenario}_2050_base', add_properties=False, add_identifiers=False)\n",
    "bio_db_w = w.extract_brightway2_databases(BIOSPHERE_DB, add_properties=False, add_identifiers=False)\n",
    "\n",
    "# pre-load the databases\n",
    "database_sel = {NAME_REF_DB:ref_db_w,\n",
    "                BIOSPHERE_DB:bio_db_w,\n",
    "                f'ecoinvent_{new_iam_scenario}_2030_base':ref_db_w_2030,\n",
    "                f'ecoinvent_{new_iam_scenario}_2035_base':ref_db_w_2035,\n",
    "                f'ecoinvent_{new_iam_scenario}_2040_base':ref_db_w_2040,\n",
    "                f'ecoinvent_{new_iam_scenario}_2045_base':ref_db_w_2045,\n",
    "                f'ecoinvent_{new_iam_scenario}_2050_base':ref_db_w_2050,                \n",
    "               }\n",
    "\n",
    "# for new linking\n",
    "dict_db_dependencies = {\n",
    "    BIOSPHERE_DB: BIOSPHERE_DB,\n",
    "    NAME_REF_DB: NAME_REF_DB,\n",
    "    f'ecoinvent_{old_iam_scenario}_2030_base': f'ecoinvent_{new_iam_scenario}_2030_base',\n",
    "    f'ecoinvent_{old_iam_scenario}_2035_base': f'ecoinvent_{new_iam_scenario}_2035_base',\n",
    "    f'ecoinvent_{old_iam_scenario}_2040_base': f'ecoinvent_{new_iam_scenario}_2040_base',\n",
    "    f'ecoinvent_{old_iam_scenario}_2045_base': f'ecoinvent_{new_iam_scenario}_2045_base',\n",
    "    f'ecoinvent_{old_iam_scenario}_2050_base': f'ecoinvent_{new_iam_scenario}_2050_base',\n",
    "}"
   ]
  },
  {
   "cell_type": "code",
   "execution_count": 9,
   "id": "8ca481a1-558c-4d75-84a1-6b952d561de9",
   "metadata": {},
   "outputs": [
    {
     "name": "stdout",
     "output_type": "stream",
     "text": [
      "Getting activity data\n"
     ]
    },
    {
     "name": "stderr",
     "output_type": "stream",
     "text": [
      "100%|████████████████████████████████████████████████████████████████████████████| 711/711 [00:00<00:00, 142183.19it/s]\n"
     ]
    },
    {
     "name": "stdout",
     "output_type": "stream",
     "text": [
      "Adding exchange data to activities\n"
     ]
    },
    {
     "name": "stderr",
     "output_type": "stream",
     "text": [
      "100%|██████████████████████████████████████████████████████████████████████████| 57105/57105 [00:09<00:00, 5888.27it/s]\n"
     ]
    },
    {
     "name": "stdout",
     "output_type": "stream",
     "text": [
      "Filling out exchange data\n"
     ]
    },
    {
     "name": "stderr",
     "output_type": "stream",
     "text": [
      "100%|███████████████████████████████████████████████████████████████████████████████| 711/711 [00:01<00:00, 706.24it/s]\n"
     ]
    },
    {
     "name": "stdout",
     "output_type": "stream",
     "text": [
      "Deleting existing database...\n",
      "Vacuuming database \n"
     ]
    },
    {
     "name": "stderr",
     "output_type": "stream",
     "text": [
      "Updating datasets: 100%|█████████████████████████████████████████████████████████████| 711/711 [38:46<00:00,  3.27s/it]\n"
     ]
    },
    {
     "name": "stdout",
     "output_type": "stream",
     "text": [
      "Applying strategy: add_database_name\n",
      "Applying strategy: csv_restore_tuples\n",
      "Applying strategy: drop_empty_categories\n",
      "Applying strategy: drop_empty_categories_2\n",
      "Applying strategy: strip_nonsense\n",
      "Applied 5 strategies in 3.52 seconds\n",
      "Applying strategy: link_iterable_by_fields\n",
      "Applying strategy: link_iterable_by_fields\n",
      "Applying strategy: link_iterable_by_fields\n",
      "Applying strategy: link_iterable_by_fields\n",
      "Applying strategy: link_iterable_by_fields\n",
      "Applying strategy: link_iterable_by_fields\n",
      "Applying strategy: link_iterable_by_fields\n",
      "711 datasets\n",
      "69401 exchanges\n",
      "0 unlinked exchanges\n",
      "  \n",
      "Wrote matching file to:\n",
      "C:\\Users\\terlouw_t\\AppData\\Local\\pylca\\Brightway3\\lca_steel_sector_cbam.27d78f50af11f772309a5a15dc8c3210\\output\\db-matching-steel_db_future_remind_SSP2-PkBudg1150-unlinked.xlsx\n"
     ]
    },
    {
     "name": "stderr",
     "output_type": "stream",
     "text": [
      "Writing activities to SQLite3 database:\n",
      "0% [##############################] 100% | ETA: 00:00:00\n",
      "Total time elapsed: 00:00:09\n"
     ]
    },
    {
     "name": "stdout",
     "output_type": "stream",
     "text": [
      "Title: Writing activities to SQLite3 database:\n",
      "  Started: 07/23/2025 10:20:12\n",
      "  Finished: 07/23/2025 10:20:21\n",
      "  Total time elapsed: 00:00:09\n",
      "  CPU %: 70.00\n",
      "  Memory %: 23.89\n",
      "Created database: steel_db_future_remind_SSP2-PkBudg1150\n",
      "Getting activity data\n"
     ]
    },
    {
     "name": "stderr",
     "output_type": "stream",
     "text": [
      "100%|█████████████████████████████████████████████████████████████████████████████| 711/711 [00:00<00:00, 83251.45it/s]\n"
     ]
    },
    {
     "name": "stdout",
     "output_type": "stream",
     "text": [
      "Adding exchange data to activities\n"
     ]
    },
    {
     "name": "stderr",
     "output_type": "stream",
     "text": [
      "100%|██████████████████████████████████████████████████████████████████████████| 57905/57905 [00:12<00:00, 4461.74it/s]\n"
     ]
    },
    {
     "name": "stdout",
     "output_type": "stream",
     "text": [
      "Filling out exchange data\n"
     ]
    },
    {
     "name": "stderr",
     "output_type": "stream",
     "text": [
      "100%|███████████████████████████████████████████████████████████████████████████████| 711/711 [00:01<00:00, 568.98it/s]\n"
     ]
    },
    {
     "name": "stdout",
     "output_type": "stream",
     "text": [
      "Deleting existing database...\n",
      "Vacuuming database \n"
     ]
    },
    {
     "name": "stderr",
     "output_type": "stream",
     "text": [
      "Updating datasets: 100%|█████████████████████████████████████████████████████████████| 711/711 [39:50<00:00,  3.36s/it]\n"
     ]
    },
    {
     "name": "stdout",
     "output_type": "stream",
     "text": [
      "Applying strategy: add_database_name\n",
      "Applying strategy: csv_restore_tuples\n",
      "Applying strategy: drop_empty_categories\n",
      "Applying strategy: drop_empty_categories_2\n",
      "Applying strategy: strip_nonsense\n",
      "Applied 5 strategies in 3.87 seconds\n",
      "Applying strategy: link_iterable_by_fields\n",
      "Applying strategy: link_iterable_by_fields\n",
      "Applying strategy: link_iterable_by_fields\n",
      "Applying strategy: link_iterable_by_fields\n",
      "Applying strategy: link_iterable_by_fields\n",
      "Applying strategy: link_iterable_by_fields\n",
      "Applying strategy: link_iterable_by_fields\n",
      "711 datasets\n",
      "71885 exchanges\n",
      "0 unlinked exchanges\n",
      "  \n",
      "Wrote matching file to:\n",
      "C:\\Users\\terlouw_t\\AppData\\Local\\pylca\\Brightway3\\lca_steel_sector_cbam.27d78f50af11f772309a5a15dc8c3210\\output\\db-matching-steel_db_future_ccs_remind_SSP2-PkBudg1150-unlinked.xlsx\n"
     ]
    },
    {
     "name": "stderr",
     "output_type": "stream",
     "text": [
      "Writing activities to SQLite3 database:\n",
      "0% [##############################] 100% | ETA: 00:00:00\n",
      "Total time elapsed: 00:00:10\n"
     ]
    },
    {
     "name": "stdout",
     "output_type": "stream",
     "text": [
      "Title: Writing activities to SQLite3 database:\n",
      "  Started: 07/23/2025 11:21:20\n",
      "  Finished: 07/23/2025 11:21:30\n",
      "  Total time elapsed: 00:00:10\n",
      "  CPU %: 65.80\n",
      "  Memory %: 24.18\n",
      "Created database: steel_db_future_ccs_remind_SSP2-PkBudg1150\n"
     ]
    }
   ],
   "source": [
    "dbs_to_modify = [\"steel_db_future\", \"steel_db_future_ccs\"]\n",
    "\n",
    "for db_to_modify in dbs_to_modify:\n",
    "    w_db_to_modify = w.extract_brightway2_databases(db_to_modify, add_properties=False, add_identifiers=False)\n",
    "    new_db_name = f\"{db_to_modify}_{new_iam_scenario}\"\n",
    "\n",
    "    # write_new_db_with_new_iam_regions_full_relinking --> 20 mins, but links to all best technosphere locations within all activities\n",
    "    new_datasets = write_new_db_with_new_iam_regions_full_relinking(\n",
    "                            w_db_to_modify,\n",
    "                            new_db_name,\n",
    "                            dict_db_dependencies,\n",
    "                            database_sel,\n",
    "                            db_sourced = db_to_modify\n",
    "                        )\n",
    "\n",
    "    process_import(new_db_name, new_datasets, iam=new_iam_model)"
   ]
  }
 ],
 "metadata": {
  "kernelspec": {
   "display_name": "Python 3 (ipykernel)",
   "language": "python",
   "name": "python3"
  },
  "language_info": {
   "codemirror_mode": {
    "name": "ipython",
    "version": 3
   },
   "file_extension": ".py",
   "mimetype": "text/x-python",
   "name": "python",
   "nbconvert_exporter": "python",
   "pygments_lexer": "ipython3",
   "version": "3.11.9"
  }
 },
 "nbformat": 4,
 "nbformat_minor": 5
}
